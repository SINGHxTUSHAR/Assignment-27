{
 "cells": [
  {
   "cell_type": "markdown",
   "id": "c8404d05",
   "metadata": {},
   "source": [
    "Q1. What is Statistics?"
   ]
  },
  {
   "cell_type": "markdown",
   "id": "faeb8ef5",
   "metadata": {},
   "source": [
    "Statistics is the study of data collection, analysis, perception, introduction, and organization. It is a method of gathering and summarizing results. Statistics is the branch of mathematics that is all about the gathering, observing, interpretation, presentation, and organization of data. In simpler words, it is a field to collect and summarize data. There are two important principles involved in statistics they are, uncertainty and variation. These two factors can be calculated only through statistical analysis. This uncertainty in events is determined with the help of probability which plays an important role in the field of statistics.\n",
    "\n",
    "\n"
   ]
  },
  {
   "cell_type": "code",
   "execution_count": null,
   "id": "65389348",
   "metadata": {},
   "outputs": [],
   "source": []
  },
  {
   "cell_type": "code",
   "execution_count": null,
   "id": "5a66dcb7",
   "metadata": {},
   "outputs": [],
   "source": []
  },
  {
   "cell_type": "markdown",
   "id": "eae548ce",
   "metadata": {},
   "source": [
    "Q2. Define the different types of statistics and give an example of when each type might be used."
   ]
  },
  {
   "cell_type": "markdown",
   "id": "408f5b94",
   "metadata": {},
   "source": [
    "There are two types of Statistics :\n",
    "\n",
    "\n",
    "1.Descriptive Statistics: The data is summarized and interpreted and explained in this type of statistics. The data is summarized from a population sample using factors such as mean and standard deviation. It is a way of organizing, presenting, and explaining a set of data using graphs and summary measures. To summarise data and show it in tables or graphs, typical methods include histograms, pie charts, bars, and scatter plots. Simply put, descriptive statistics are that. Beyond the data they gather, they don’t need to be normalized. \n",
    "\n",
    "Example : Height of students in a classroom : x = [120,156,174,189,205,123,110] cm\n",
    "\n",
    "\n",
    "2.Inferential Statistics: We try to understand the meaning of descriptive statistics using inferential statistics. After the data has been gathered, assessed, and summarised, we use inferential statistics to explain what the data mean. Inferential statistics uses the probability principle to examine if patterns seen in a research sample may be extrapolated to the larger population from which the sample was taken. Inferential statistics may be used to forecast population numbers in addition to testing hypotheses and examining connections between variables. To draw conclusions and inferences from samples, or to make precise generalizations, inferential statistics is used\n",
    "\n",
    "Example : Exit poll is the best example for Inferential Statistics as the decision is made based on the sample data for population."
   ]
  },
  {
   "cell_type": "code",
   "execution_count": null,
   "id": "91c31111",
   "metadata": {},
   "outputs": [],
   "source": []
  },
  {
   "cell_type": "code",
   "execution_count": null,
   "id": "db309e33",
   "metadata": {},
   "outputs": [],
   "source": []
  },
  {
   "cell_type": "markdown",
   "id": "4b33d69e",
   "metadata": {},
   "source": [
    "Q3.  What are the different types of data and how do they differ from each other? Provide an example of\n",
    "each type of data."
   ]
  },
  {
   "cell_type": "markdown",
   "id": "fb8c2ce1",
   "metadata": {},
   "source": [
    "Their are two types of data:\n",
    "    \n",
    "1.Quantitative data :\n",
    "    \n",
    "* Data is depicted in numerical terms. \n",
    "\n",
    "* Can be shown in numbers and variables like ratio, percentage, and more.\n",
    "\n",
    "* Example: 100%, 1:3, 123\n",
    "        \n",
    "\n",
    "2.Qualitative data\n",
    "\n",
    "* Data is not depicted in numerical terms. \n",
    "\n",
    "* Could be about the behavioral attributes of a person, or thing.\n",
    "\n",
    "* Example: loud behavior, fair skin, soft quality, and more.\n"
   ]
  },
  {
   "cell_type": "code",
   "execution_count": null,
   "id": "8e782585",
   "metadata": {},
   "outputs": [],
   "source": []
  },
  {
   "cell_type": "markdown",
   "id": "11c71b87",
   "metadata": {},
   "source": [
    "Q4. Categorise the following datasets with respect to quantitative and qualitative data types:\n",
    "\n",
    "(i)\tGrading in exam: A+, A, B+, B, C+, C, D, E        \n",
    "=> qualitative data\n",
    "\n",
    "(ii)\tColour of mangoes: yellow, green, orange, red         \n",
    "=>qualitative data\n",
    "\n",
    "(iii)\tHeight data of a class: [178.9, 179, 179.5, 176, 177.2, 178.3, 175.8,...]       \n",
    "=>quantitative data\n",
    "\n",
    "(iv)\tNumber of mangoes exported by a farm: [500, 600, 478, 672, …]       \n",
    "=>quantitative data\n"
   ]
  },
  {
   "cell_type": "code",
   "execution_count": null,
   "id": "e7ace923",
   "metadata": {},
   "outputs": [],
   "source": []
  },
  {
   "cell_type": "code",
   "execution_count": null,
   "id": "3d691128",
   "metadata": {},
   "outputs": [],
   "source": []
  },
  {
   "cell_type": "markdown",
   "id": "2378b188",
   "metadata": {},
   "source": [
    "Q5. Explain the concept of levels of measurement and give an example of a variable for each level."
   ]
  },
  {
   "cell_type": "markdown",
   "id": "eea72c4a",
   "metadata": {},
   "source": [
    "The nominal, ordinal, interval & ratio levels of measurement are scales that allow us to measure and classify gathered data in well-defined variables to be used for different purposes. \n",
    "\n",
    "These are the four scales used mainly for:\n",
    "\n",
    "* Nominal: Used to categorize data into mutually exclusive categories or groups.\n",
    "\n",
    "\n",
    "* Ordinal: Used to measure variables in a natural order, such as rating or ranking. They provide meaningful insights into attitudes, preferences, and behaviors by understanding the order of responses.\n",
    "\n",
    "\n",
    "* Interval: Used to measure variables with equal intervals between values. This type of measurement is often used for temperature and time, allowing for precise comparisons and calculations.\n",
    "\n",
    "\n",
    "* Ratio: Allows for comparisons and computations such as ratios, percentages, and averages. Great for research in fields like science, engineering, and finance, where you need to use ratios, percentages, and averages to understand the data.\n"
   ]
  },
  {
   "cell_type": "code",
   "execution_count": null,
   "id": "eb87e318",
   "metadata": {},
   "outputs": [],
   "source": []
  },
  {
   "cell_type": "code",
   "execution_count": null,
   "id": "d2a8dbc8",
   "metadata": {},
   "outputs": [],
   "source": []
  },
  {
   "cell_type": "markdown",
   "id": "fd213ac1",
   "metadata": {},
   "source": [
    "Q6. Why is it important to understand the level of measurement when analyzing data? Provide an\n",
    "example to illustrate your answer."
   ]
  },
  {
   "cell_type": "markdown",
   "id": "776327f8",
   "metadata": {},
   "source": [
    "First, knowing the level of measurement helps us decide how to interpret the data from that variable. When we know that a measure is nominal (like the one just described), then we know that the numerical values are just short codes for the longer names. Second, knowing the level of measurement helps us to decide what statistical analysis is appropriate on the values that were assigned. If a measure is nominal, then we know that we would never average the data values or do a t-test on the data.\n",
    "\n",
    "\n",
    "It is important to understand the level of measurement of variables in research, because the level of measurement determines the type of statistical analysis that can be conducted, and, therefore, the type of conclusions that can be drawn from the research."
   ]
  },
  {
   "cell_type": "code",
   "execution_count": null,
   "id": "dd6ee865",
   "metadata": {},
   "outputs": [],
   "source": []
  },
  {
   "cell_type": "code",
   "execution_count": null,
   "id": "3fcd018a",
   "metadata": {},
   "outputs": [],
   "source": []
  },
  {
   "cell_type": "markdown",
   "id": "ab37dc18",
   "metadata": {},
   "source": [
    "Q7. How nominal data type is different from ordinal data type."
   ]
  },
  {
   "cell_type": "markdown",
   "id": "06cf2164",
   "metadata": {},
   "source": [
    "The main differences between Nominal Data and Ordinal Data are: While Nominal Data is classified without any intrinsic ordering or rank, Ordinal Data has some predetermined or natural order"
   ]
  },
  {
   "cell_type": "code",
   "execution_count": null,
   "id": "5cbf809d",
   "metadata": {},
   "outputs": [],
   "source": []
  },
  {
   "cell_type": "markdown",
   "id": "1c817ecf",
   "metadata": {},
   "source": [
    "Q8. Which type of plot can be used to display data in terms of range?"
   ]
  },
  {
   "cell_type": "markdown",
   "id": "97b0ccb5",
   "metadata": {},
   "source": [
    "Histogram. If the groups depicted in a bar chart are actually continuous numeric ranges, we can push the bars together to generate a histogram. Bar lengths in histograms typically correspond to counts of data points, and their patterns demonstrate the distribution of variables in your data."
   ]
  },
  {
   "cell_type": "code",
   "execution_count": null,
   "id": "8da2c0be",
   "metadata": {},
   "outputs": [],
   "source": []
  },
  {
   "cell_type": "markdown",
   "id": "0c23ffa1",
   "metadata": {},
   "source": [
    "Q9. Describe the difference between descriptive and inferential statistics. Give an example of each\n",
    "type of statistics and explain how they are used."
   ]
  },
  {
   "cell_type": "markdown",
   "id": "de69a139",
   "metadata": {},
   "source": [
    "Descriptive Statistics :\n",
    "\n",
    "* It gives information about raw data which describes the data in some manner.\n",
    "* It helps in organizing, analyzing, and to present data in a meaningful manner.\n",
    "* It is used to describe a situation.\n",
    "* It explains already known data and is limited to a sample or population having a small size.\n",
    "* It can be achieved with the help of charts, graphs, tables, etc.\n",
    "\n",
    "Inferential Statistics :\n",
    "\n",
    "* It makes inferences about the population using data drawn from the population.\n",
    "* It allows us to compare data, and make hypotheses and predictions.\n",
    "* It is used to explain the chance of occurrence of an event.\n",
    "* It attempts to reach the conclusion about the population.\n",
    "* It can be achieved by probability."
   ]
  },
  {
   "cell_type": "code",
   "execution_count": null,
   "id": "7f75aeef",
   "metadata": {},
   "outputs": [],
   "source": []
  },
  {
   "cell_type": "code",
   "execution_count": null,
   "id": "1b479b0b",
   "metadata": {},
   "outputs": [],
   "source": []
  },
  {
   "cell_type": "markdown",
   "id": "0e3c4891",
   "metadata": {},
   "source": [
    "Q10. What are some common measures of central tendency and variability used in statistics? Explain\n",
    "how each measure can be used to describe a dataset."
   ]
  },
  {
   "cell_type": "markdown",
   "id": "e0e09261",
   "metadata": {},
   "source": [
    "Central Tendency :\n",
    "\n",
    "Measures of central tendency are summary statistics that represent the center point or typical value of a dataset. Examples of these measures include the mean, median, and mode. These statistics indicate where most values in a distribution fall and are also referred to as the central location of a distribution. You can think of central tendency as the propensity for data points to cluster around a middle value.\n",
    "\n",
    "In statistics, the mean, median, and mode are the three most common measures of central tendency. Each one calculates the central point using a different method. Choosing the best measure of central tendency depends on the type of data you have. In this post, I explore the mean, median, and mode as measures of central tendency, show you how to calculate them, and how to determine which one is best for your data."
   ]
  },
  {
   "cell_type": "markdown",
   "id": "31e6880b",
   "metadata": {},
   "source": [
    "Variability :\n",
    "\n",
    "Variability is most commonly measured with the following descriptive statistics:\n",
    "\n",
    "* Range: the difference between the highest and lowest values.\n",
    "* Interquartile range: the range of the middle half of a distribution.\n",
    "* Standard deviation: average distance from the mean.\n",
    "* Variance: average of squared distances from the mean."
   ]
  },
  {
   "cell_type": "code",
   "execution_count": null,
   "id": "018250f1",
   "metadata": {},
   "outputs": [],
   "source": []
  }
 ],
 "metadata": {
  "kernelspec": {
   "display_name": "Python 3 (ipykernel)",
   "language": "python",
   "name": "python3"
  },
  "language_info": {
   "codemirror_mode": {
    "name": "ipython",
    "version": 3
   },
   "file_extension": ".py",
   "mimetype": "text/x-python",
   "name": "python",
   "nbconvert_exporter": "python",
   "pygments_lexer": "ipython3",
   "version": "3.9.12"
  }
 },
 "nbformat": 4,
 "nbformat_minor": 5
}
